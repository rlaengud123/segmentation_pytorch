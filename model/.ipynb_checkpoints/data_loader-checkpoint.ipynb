{
 "cells": [
  {
   "cell_type": "code",
   "execution_count": 1,
   "metadata": {},
   "outputs": [],
   "source": [
    "import os\n",
    "import pickle\n",
    "\n",
    "import numpy as np\n",
    "import pandas as pd\n",
    "\n",
    "from sklearn.model_selection import KFold, StratifiedKFold\n",
    "\n",
    "import warnings\n",
    "warnings.filterwarnings(\"ignore\")"
   ]
  },
  {
   "cell_type": "code",
   "execution_count": 2,
   "metadata": {},
   "outputs": [],
   "source": [
    "class train_PatchLoader:\n",
    "    def __init__(self, n_kfold, seed):\n",
    "        self.n_kfold = n_kfold\n",
    "        self.seed = seed\n",
    "        \n",
    "        self.patches_img_path = 'train_patches/level4/img/'\n",
    "        self.patches_mask_path = 'train_patches/level4/mask/'\n",
    "        self.img_mask_pairs_path = 'train_patches/level4/img_mask_pairs/img_mask_pairs.pkl'\n",
    "            \n",
    "    def get_all_patches(self):\n",
    "        '''slide & mask의 pair를 불러와 dataframe으로 만드는 함수'''\n",
    "\n",
    "        with open(self.img_mask_pairs_path, 'rb') as f:\n",
    "            img_mask_pairs = pickle.load(f)\n",
    "        print(img_mask_pairs)\n",
    "\n",
    "        self.all_patches_sample = pd.DataFrame(img_mask_pairs, columns=['slide_path', 'mask_path'])\n",
    "        self.all_patches_sample = self.all_patches_sample.sample(frac=1, random_state=42).reset_index(drop=True) # frac = 1이면 샘플을 전부사용\n",
    "        return self.all_patches_sample\n",
    "    \n",
    "    def split_sample(self):\n",
    "        kf = KFold(n_splits=self.n_kfold, shuffle=True, random_state=self.seed)\n",
    "        folds = list(kf.split(self.all_patches_sample))\n",
    "        return folds"
   ]
  },
  {
   "cell_type": "code",
   "execution_count": null,
   "metadata": {},
   "outputs": [],
   "source": [
    "class valid_PatchLoader:\n",
    "    def __init__(self, n_kfold, seed):\n",
    "        self.n_kfold = n_kfold\n",
    "        self.seed = seed\n",
    "        \n",
    "        self.patches_img_path = 'valid_patches/level4/img/'\n",
    "        self.patches_mask_path = 'valid_patches/level4/mask/'\n",
    "        self.img_mask_pairs_path = 'valid_patches/level4/img_mask_pairs/img_mask_pairs.pkl'\n",
    "            \n",
    "    def get_all_patches(self):\n",
    "        '''slide & mask의 pair를 불러와 dataframe으로 만드는 함수'''\n",
    "\n",
    "        with open(self.img_mask_pairs_path, 'rb') as f:\n",
    "            img_mask_pairs = pickle.load(f)\n",
    "        print(img_mask_pairs)\n",
    "\n",
    "        self.all_patches_sample = pd.DataFrame(img_mask_pairs, columns=['slide_path', 'mask_path'])\n",
    "        self.all_patches_sample = self.all_patches_sample.sample(frac=1, random_state=42).reset_index(drop=True) # frac = 1이면 샘플을 전부사용\n",
    "        return self.all_patches_sample\n",
    "    \n",
    "    def split_sample(self):\n",
    "        kf = KFold(n_splits=self.n_kfold, shuffle=True, random_state=self.seed)\n",
    "        folds = list(kf.split(self.all_patches_sample))\n",
    "        return folds"
   ]
  },
  {
   "cell_type": "code",
   "execution_count": 3,
   "metadata": {},
   "outputs": [],
   "source": [
    "# K-Fold Data Generator\n",
    "def kfold_data_generator(slide_datagen, mask_datagen, df, batch_size=40, seed=42):\n",
    "    slide_generator = \\\n",
    "        slide_datagen.flow_from_dataframe(df,\n",
    "                                          x_col='slide_path',\n",
    "                                          y_col='mask_path',\n",
    "                                          seed=seed,\n",
    "                                          batch_size=batch_size,\n",
    "                                          shuffle=False,\n",
    "                                          class_mode=None)\n",
    "\n",
    "    mask_generator = \\\n",
    "        mask_datagen.flow_from_dataframe(df,\n",
    "                                         x_col='mask_path',\n",
    "                                         y_col='mask_path',\n",
    "                                         color_mode='grayscale',\n",
    "                                         seed=seed,\n",
    "                                         batch_size=batch_size,\n",
    "                                         shuffle=False,\n",
    "                                         class_mode=None)\n",
    "    \n",
    "    generator = zip(slide_generator, mask_generator)\n",
    "    for (slide, mask) in generator:\n",
    "        mask = mask.astype(np.int8)\n",
    "        yield slide, mask"
   ]
  }
 ],
 "metadata": {
  "kernelspec": {
   "display_name": "Python 3",
   "language": "python",
   "name": "python3"
  },
  "language_info": {
   "codemirror_mode": {
    "name": "ipython",
    "version": 3
   },
   "file_extension": ".py",
   "mimetype": "text/x-python",
   "name": "python",
   "nbconvert_exporter": "python",
   "pygments_lexer": "ipython3",
   "version": "3.7.0"
  }
 },
 "nbformat": 4,
 "nbformat_minor": 4
}
