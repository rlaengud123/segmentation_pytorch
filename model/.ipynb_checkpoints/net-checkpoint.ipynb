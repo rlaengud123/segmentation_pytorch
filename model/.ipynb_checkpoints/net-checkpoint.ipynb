{
 "cells": [
  {
   "cell_type": "code",
   "execution_count": 1,
   "metadata": {},
   "outputs": [],
   "source": [
    "import torch\n",
    "\n",
    "from segmentation_models_pytorch import Unet, FPN"
   ]
  },
  {
   "cell_type": "code",
   "execution_count": 2,
   "metadata": {},
   "outputs": [],
   "source": [
    "def fpn(backbone, pretrained_weights=None, classes = 2, activation = 'sigmoid'): \n",
    "    device = torch.device(\"cuda\")\n",
    "    model = FPN(encoder_name=backbone, \n",
    "                encoder_weights=pretrained_weigths, \n",
    "                classes=classes, \n",
    "                activation=activation)\n",
    "    model.to(device)\n",
    "    model.eval() # 위치 확인해볼것\n",
    "    \n",
    "    return model\n",
    "\n",
    "def unet(backbone, pretrained_weights=None, classes = 2, activation = 'sigmoid'): \n",
    "    device = torch.device(\"cuda\")\n",
    "    model = Unet(encoder_name=backbone, \n",
    "                 encoder_weights=pretrained_weigths, \n",
    "                 classes=classes, \n",
    "                 activation=activation)\n",
    "    model.to(device)\n",
    "    model.eval() # 위치 확인해볼것\n",
    "    \n",
    "    return model"
   ]
  },
  {
   "cell_type": "code",
   "execution_count": null,
   "metadata": {},
   "outputs": [],
   "source": []
  }
 ],
 "metadata": {
  "kernelspec": {
   "display_name": "Python 3",
   "language": "python",
   "name": "python3"
  },
  "language_info": {
   "codemirror_mode": {
    "name": "ipython",
    "version": 3
   },
   "file_extension": ".py",
   "mimetype": "text/x-python",
   "name": "python",
   "nbconvert_exporter": "python",
   "pygments_lexer": "ipython3",
   "version": "3.7.0"
  }
 },
 "nbformat": 4,
 "nbformat_minor": 4
}
