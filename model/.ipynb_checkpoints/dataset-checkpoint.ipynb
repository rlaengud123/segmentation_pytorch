{
 "cells": [
  {
   "cell_type": "code",
   "execution_count": 1,
   "metadata": {},
   "outputs": [],
   "source": [
    "import cv2\n",
    "import numpy as np\n",
    "import pandas as pd\n",
    "import albumentations as albu\n",
    "import numpy.ma as ma # mask 만들기\n",
    "\n",
    "from albumentations import pytorch as AT # 나중에 사용\n",
    "from torch.utils.data import Dataset\n",
    "from data_loader import train_PatchLoader\n",
    "from data_loader import valid_PatchLoader"
   ]
  },
  {
   "cell_type": "code",
   "execution_count": 2,
   "metadata": {},
   "outputs": [],
   "source": [
    "class MSI_train_Dataset(Dataset):\n",
    "    # 커스텀 dataset\n",
    "    def __init__(self, transforms = albu.Compose([albu.HorizontalFlip(),AT.ToTensor()]), preprocessing=None, k_folds=1):\n",
    "        \n",
    "        patch_loader = train_PatchLoader(n_kfold=k_folds, seed=42)\n",
    "        df = patch_loader.get_all_patches()\n",
    "        self.len = df.shape[0]\n",
    "        self.slide_path = df['slide_path']\n",
    "        self.mask_path = df['mask_path']\n",
    "        self.transforms = transforms\n",
    "        self.preprocessing = preprocessing\n",
    "\n",
    "    def __getitem__(self, idx):\n",
    "        slide_path = self.slide_path[idx]\n",
    "        mask_path = self.mask_path[idx]\n",
    "        \n",
    "        slide = cv2.imread(slide_path)\n",
    "        slide = cv2.cvtColor(slide, cv2.COLOR_BGR2RGB)\n",
    "        \n",
    "        mask = cv2.imread(mask_path)\n",
    "        mask = mask/255\n",
    "        mask = ma.make_mask(mask)\n",
    "        \n",
    "        augmented = self.transforms(image=slide, mask=mask)\n",
    "        slide = augmented['image']\n",
    "        mask = augmented['mask']\n",
    "        \n",
    "        if self.preprocessing:\n",
    "            preprocessed = self.preprocessing(image=slide, mask=mask)\n",
    "            slide = preprocessed['image']\n",
    "            mask = preprocessed['mask']\n",
    "        return slide, mask\n",
    "\n",
    "    def __len__(self):\n",
    "        return self.len"
   ]
  },
  {
   "cell_type": "code",
   "execution_count": 3,
   "metadata": {},
   "outputs": [],
   "source": [
    "class MSI_valid_Dataset(Dataset):\n",
    "    # 커스텀 dataset\n",
    "    def __init__(self, transforms = albu.Compose([albu.HorizontalFlip(),AT.ToTensor()]), preprocessing=None, k_folds=1):\n",
    "        \n",
    "        patch_loader = valid_PatchLoader(n_kfold=k_folds, seed=42)\n",
    "        df = patch_loader.get_all_patches()\n",
    "        self.len = df.shape[0]\n",
    "        self.slide_path = df['slide_path']\n",
    "        self.mask_path = df['mask_path']\n",
    "        self.transforms = transforms\n",
    "        self.preprocessing = preprocessing\n",
    "\n",
    "    def __getitem__(self, idx):\n",
    "        slide_path = self.slide_path[idx]\n",
    "        mask_path = self.mask_path[idx]\n",
    "        \n",
    "        slide = cv2.imread(slide_path)\n",
    "        slide = cv2.cvtColor(slide, cv2.COLOR_BGR2RGB)\n",
    "        \n",
    "        mask = cv2.imread(mask_path)\n",
    "        mask = mask/255\n",
    "        mask = ma.make_mask(mask)\n",
    "        \n",
    "        augmented = self.transforms(image=slide, mask=mask)\n",
    "        slide = augmented['image']\n",
    "        mask = augmented['mask']\n",
    "        \n",
    "        if self.preprocessing:\n",
    "            preprocessed = self.preprocessing(image=slide, mask=mask)\n",
    "            slide = preprocessed['image']\n",
    "            mask = preprocessed['mask']\n",
    "        return slide, mask\n",
    "\n",
    "    def __len__(self):\n",
    "        return self.len"
   ]
  }
 ],
 "metadata": {
  "kernelspec": {
   "display_name": "Python 3",
   "language": "python",
   "name": "python3"
  },
  "language_info": {
   "codemirror_mode": {
    "name": "ipython",
    "version": 3
   },
   "file_extension": ".py",
   "mimetype": "text/x-python",
   "name": "python",
   "nbconvert_exporter": "python",
   "pygments_lexer": "ipython3",
   "version": "3.7.0"
  }
 },
 "nbformat": 4,
 "nbformat_minor": 4
}
